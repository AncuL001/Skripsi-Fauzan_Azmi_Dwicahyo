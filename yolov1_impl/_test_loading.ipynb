{
 "cells": [
  {
   "cell_type": "code",
   "execution_count": 6,
   "metadata": {},
   "outputs": [
    {
     "data": {
      "text/plain": [
       "VGG(\n",
       "  (features): Sequential(\n",
       "    (0): Conv2d(3, 64, kernel_size=(3, 3), stride=(1, 1), padding=(1, 1))\n",
       "    (1): BatchNorm2d(64, eps=1e-05, momentum=0.1, affine=True, track_running_stats=True)\n",
       "    (2): ReLU(inplace=True)\n",
       "    (3): MaxPool2d(kernel_size=2, stride=2, padding=0, dilation=1, ceil_mode=False)\n",
       "    (4): Conv2d(64, 128, kernel_size=(3, 3), stride=(1, 1), padding=(1, 1))\n",
       "    (5): BatchNorm2d(128, eps=1e-05, momentum=0.1, affine=True, track_running_stats=True)\n",
       "    (6): ReLU(inplace=True)\n",
       "    (7): MaxPool2d(kernel_size=2, stride=2, padding=0, dilation=1, ceil_mode=False)\n",
       "    (8): Conv2d(128, 256, kernel_size=(3, 3), stride=(1, 1), padding=(1, 1))\n",
       "    (9): BatchNorm2d(256, eps=1e-05, momentum=0.1, affine=True, track_running_stats=True)\n",
       "    (10): ReLU(inplace=True)\n",
       "    (11): Conv2d(256, 256, kernel_size=(3, 3), stride=(1, 1), padding=(1, 1))\n",
       "    (12): BatchNorm2d(256, eps=1e-05, momentum=0.1, affine=True, track_running_stats=True)\n",
       "    (13): ReLU(inplace=True)\n",
       "    (14): MaxPool2d(kernel_size=2, stride=2, padding=0, dilation=1, ceil_mode=False)\n",
       "    (15): Conv2d(256, 512, kernel_size=(3, 3), stride=(1, 1), padding=(1, 1))\n",
       "    (16): BatchNorm2d(512, eps=1e-05, momentum=0.1, affine=True, track_running_stats=True)\n",
       "    (17): ReLU(inplace=True)\n",
       "    (18): Conv2d(512, 512, kernel_size=(3, 3), stride=(1, 1), padding=(1, 1))\n",
       "    (19): BatchNorm2d(512, eps=1e-05, momentum=0.1, affine=True, track_running_stats=True)\n",
       "    (20): ReLU(inplace=True)\n",
       "    (21): MaxPool2d(kernel_size=2, stride=2, padding=0, dilation=1, ceil_mode=False)\n",
       "    (22): Conv2d(512, 512, kernel_size=(3, 3), stride=(1, 1), padding=(1, 1))\n",
       "    (23): BatchNorm2d(512, eps=1e-05, momentum=0.1, affine=True, track_running_stats=True)\n",
       "    (24): ReLU(inplace=True)\n",
       "    (25): Conv2d(512, 512, kernel_size=(3, 3), stride=(1, 1), padding=(1, 1))\n",
       "    (26): BatchNorm2d(512, eps=1e-05, momentum=0.1, affine=True, track_running_stats=True)\n",
       "    (27): ReLU(inplace=True)\n",
       "    (28): MaxPool2d(kernel_size=2, stride=2, padding=0, dilation=1, ceil_mode=False)\n",
       "  )\n",
       "  (avgpool): AdaptiveAvgPool2d(output_size=(7, 7))\n",
       "  (classifier): Sequential(\n",
       "    (0): Linear(in_features=25088, out_features=4096, bias=True)\n",
       "    (1): Dropout(p=0, inplace=False)\n",
       "    (2): LeakyReLU(negative_slope=0.1)\n",
       "    (3): Linear(in_features=4096, out_features=539, bias=True)\n",
       "  )\n",
       ")"
      ]
     },
     "execution_count": 6,
     "metadata": {},
     "output_type": "execute_result"
    }
   ],
   "source": [
    "from models.vgg11_yolo import vgg11_yolo as used_model\n",
    "import config\n",
    "import torch\n",
    "\n",
    "folder = \"../runs/VGG/dropout-0/2023-22-11_15-55-54\"\n",
    "path_to_model = folder + \"/model.pt\"\n",
    "path_to_export = folder + \"/model.onnx\"\n",
    "dropout = 0\n",
    "\n",
    "cfg = config.Config().replace(DROPOUT=dropout, BATCH_SIZE=8)\n",
    "model = used_model(split_size=cfg.SPLIT_SIZE, num_boxes=cfg.NUM_BOXES, num_classes=cfg.NUM_CLASSES, dropout_percentage=dropout).to(cfg.DEVICE)\n",
    "model.load_state_dict(torch.load(path_to_model, map_location=torch.device(cfg.DEVICE)))\n",
    "model.eval()"
   ]
  },
  {
   "cell_type": "code",
   "execution_count": 7,
   "metadata": {},
   "outputs": [
    {
     "data": {
      "text/plain": [
       "==========================================================================================\n",
       "Layer (type:depth-idx)                   Output Shape              Param #\n",
       "==========================================================================================\n",
       "VGG                                      [1, 539]                  --\n",
       "├─Sequential: 1-1                        [1, 512, 14, 14]          --\n",
       "│    └─Conv2d: 2-1                       [1, 64, 448, 448]         1,792\n",
       "│    └─BatchNorm2d: 2-2                  [1, 64, 448, 448]         128\n",
       "│    └─ReLU: 2-3                         [1, 64, 448, 448]         --\n",
       "│    └─MaxPool2d: 2-4                    [1, 64, 224, 224]         --\n",
       "│    └─Conv2d: 2-5                       [1, 128, 224, 224]        73,856\n",
       "│    └─BatchNorm2d: 2-6                  [1, 128, 224, 224]        256\n",
       "│    └─ReLU: 2-7                         [1, 128, 224, 224]        --\n",
       "│    └─MaxPool2d: 2-8                    [1, 128, 112, 112]        --\n",
       "│    └─Conv2d: 2-9                       [1, 256, 112, 112]        295,168\n",
       "│    └─BatchNorm2d: 2-10                 [1, 256, 112, 112]        512\n",
       "│    └─ReLU: 2-11                        [1, 256, 112, 112]        --\n",
       "│    └─Conv2d: 2-12                      [1, 256, 112, 112]        590,080\n",
       "│    └─BatchNorm2d: 2-13                 [1, 256, 112, 112]        512\n",
       "│    └─ReLU: 2-14                        [1, 256, 112, 112]        --\n",
       "│    └─MaxPool2d: 2-15                   [1, 256, 56, 56]          --\n",
       "│    └─Conv2d: 2-16                      [1, 512, 56, 56]          1,180,160\n",
       "│    └─BatchNorm2d: 2-17                 [1, 512, 56, 56]          1,024\n",
       "│    └─ReLU: 2-18                        [1, 512, 56, 56]          --\n",
       "│    └─Conv2d: 2-19                      [1, 512, 56, 56]          2,359,808\n",
       "│    └─BatchNorm2d: 2-20                 [1, 512, 56, 56]          1,024\n",
       "│    └─ReLU: 2-21                        [1, 512, 56, 56]          --\n",
       "│    └─MaxPool2d: 2-22                   [1, 512, 28, 28]          --\n",
       "│    └─Conv2d: 2-23                      [1, 512, 28, 28]          2,359,808\n",
       "│    └─BatchNorm2d: 2-24                 [1, 512, 28, 28]          1,024\n",
       "│    └─ReLU: 2-25                        [1, 512, 28, 28]          --\n",
       "│    └─Conv2d: 2-26                      [1, 512, 28, 28]          2,359,808\n",
       "│    └─BatchNorm2d: 2-27                 [1, 512, 28, 28]          1,024\n",
       "│    └─ReLU: 2-28                        [1, 512, 28, 28]          --\n",
       "│    └─MaxPool2d: 2-29                   [1, 512, 14, 14]          --\n",
       "├─AdaptiveAvgPool2d: 1-2                 [1, 512, 7, 7]            --\n",
       "├─Sequential: 1-3                        [1, 539]                  --\n",
       "│    └─Linear: 2-30                      [1, 4096]                 102,764,544\n",
       "│    └─Dropout: 2-31                     [1, 4096]                 --\n",
       "│    └─LeakyReLU: 2-32                   [1, 4096]                 --\n",
       "│    └─Linear: 2-33                      [1, 539]                  2,208,283\n",
       "==========================================================================================\n",
       "Total params: 114,198,811\n",
       "Trainable params: 114,198,811\n",
       "Non-trainable params: 0\n",
       "Total mult-adds (G): 30.08\n",
       "==========================================================================================\n",
       "Input size (MB): 2.41\n",
       "Forward/backward pass size (MB): 475.30\n",
       "Params size (MB): 456.80\n",
       "Estimated Total Size (MB): 934.51\n",
       "=========================================================================================="
      ]
     },
     "execution_count": 7,
     "metadata": {},
     "output_type": "execute_result"
    }
   ],
   "source": [
    "import torchinfo\n",
    "torchinfo.summary(model, input_size=(1, 3, 448, 448))"
   ]
  },
  {
   "cell_type": "code",
   "execution_count": 2,
   "metadata": {},
   "outputs": [
    {
     "name": "stdout",
     "output_type": "stream",
     "text": [
      "============== Diagnostic Run torch.onnx.export version 2.0.1+cpu ==============\n",
      "verbose: False, log level: Level.ERROR\n",
      "======================= 0 NONE 0 NOTE 0 WARNING 0 ERROR ========================\n",
      "\n"
     ]
    }
   ],
   "source": [
    "x = torch.randn(1, 3, 448, 448)\n",
    "torch_out = model(x)\n",
    "\n",
    "# Export the model\n",
    "torch.onnx.export(model,               # model being run\n",
    "                  x,                         # model input (or a tuple for multiple inputs)\n",
    "                  path_to_export,   # where to save the model (can be a file or file-like object)\n",
    "                  export_params=True,        # store the trained parameter weights inside the model file\n",
    "                  opset_version=10,          # the ONNX version to export the model to\n",
    "                  do_constant_folding=True,  # whether to execute constant folding for optimization\n",
    "                  input_names = ['input'],   # the model's input names\n",
    "                  output_names = ['output'], # the model's output names\n",
    "                  )"
   ]
  }
 ],
 "metadata": {
  "kernelspec": {
   "display_name": ".venv",
   "language": "python",
   "name": "python3"
  },
  "language_info": {
   "codemirror_mode": {
    "name": "ipython",
    "version": 3
   },
   "file_extension": ".py",
   "mimetype": "text/x-python",
   "name": "python",
   "nbconvert_exporter": "python",
   "pygments_lexer": "ipython3",
   "version": "3.9.13"
  }
 },
 "nbformat": 4,
 "nbformat_minor": 2
}
