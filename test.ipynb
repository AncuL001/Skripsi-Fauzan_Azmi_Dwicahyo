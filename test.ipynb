{
 "cells": [
  {
   "cell_type": "code",
   "execution_count": 1,
   "metadata": {},
   "outputs": [],
   "source": [
    "def calcOutputDim(inputDim, kernelSize, stride, padding):\n",
    "    return (inputDim - kernelSize + 2 * padding) // stride + 1"
   ]
  },
  {
   "cell_type": "code",
   "execution_count": 48,
   "metadata": {},
   "outputs": [],
   "source": [
    "architecture_config = [\n",
    "    (7, 64, 2, 3),                       # (kernel_size, filters, stride, padding)\n",
    "    \"M\",                                 # Maxpooling\n",
    "    (3, 192, 1, 1),\n",
    "    \"M\",\n",
    "    (1, 128, 1, 0),\n",
    "    (3, 256, 1, 1),\n",
    "    (1, 256, 1, 0),\n",
    "    (3, 512, 1, 1),\n",
    "    \"M\",\n",
    "    [(1, 256, 1, 0), (3, 512, 1, 1), 4], # tuples then amount of repeats\n",
    "    (1, 512, 1, 0),\n",
    "    (3, 1024, 1, 1),\n",
    "    \"M\",\n",
    "    [(1, 512, 1, 0), (3, 1024, 1, 1), 2],\n",
    "    (3, 1024, 1, 1),\n",
    "    (3, 1024, 2, 2),\n",
    "    (3, 1024, 1, 1),\n",
    "    (3, 1024, 1, 1),\n",
    "]"
   ]
  },
  {
   "cell_type": "code",
   "execution_count": 3,
   "metadata": {},
   "outputs": [],
   "source": [
    "def coutOutputDims(input_size, architecture_config):\n",
    "        for x in architecture_config:\n",
    "            if type(x) == tuple:\n",
    "                kernel_size = x[0]\n",
    "                stride = x[2]\n",
    "                padding = x[3]\n",
    "\n",
    "                input_size = calcOutputDim(input_size, kernel_size, stride, padding)\n",
    "                print(input_size)\n",
    "\n",
    "            elif type(x) == str:\n",
    "                input_size = calcOutputDim(input_size, 2, 2, 0)\n",
    "\n",
    "                print(input_size)\n",
    "\n",
    "            elif type(x) == list:\n",
    "                conv1 = x[0]\n",
    "                conv2 = x[1]\n",
    "                num_repeats = x[2]\n",
    "\n",
    "                for _ in range(num_repeats):\n",
    "                    kernel_size = conv1[0]\n",
    "                    stride = conv1[2]\n",
    "                    padding = conv1[3]\n",
    "\n",
    "                    input_size = calcOutputDim(input_size, kernel_size, stride, padding)\n",
    "                    print(input_size)\n",
    "\n",
    "                    kernel_size = conv2[0]\n",
    "                    stride = conv2[2]\n",
    "                    padding = conv2[3]\n",
    "\n",
    "                    input_size = calcOutputDim(input_size, kernel_size, stride, padding)\n",
    "                    print(input_size)"
   ]
  },
  {
   "cell_type": "code",
   "execution_count": 49,
   "metadata": {},
   "outputs": [
    {
     "name": "stdout",
     "output_type": "stream",
     "text": [
      "224\n",
      "112\n",
      "112\n",
      "56\n",
      "56\n",
      "56\n",
      "56\n",
      "56\n",
      "28\n",
      "28\n",
      "28\n",
      "28\n",
      "28\n",
      "28\n",
      "28\n",
      "28\n",
      "28\n",
      "28\n",
      "28\n",
      "14\n",
      "14\n",
      "14\n",
      "14\n",
      "14\n",
      "14\n",
      "8\n",
      "8\n",
      "8\n"
     ]
    }
   ],
   "source": [
    "coutOutputDims(448, architecture_config)"
   ]
  }
 ],
 "metadata": {
  "kernelspec": {
   "display_name": ".venv",
   "language": "python",
   "name": "python3"
  },
  "language_info": {
   "codemirror_mode": {
    "name": "ipython",
    "version": 3
   },
   "file_extension": ".py",
   "mimetype": "text/x-python",
   "name": "python",
   "nbconvert_exporter": "python",
   "pygments_lexer": "ipython3",
   "version": "3.9.13"
  },
  "orig_nbformat": 4
 },
 "nbformat": 4,
 "nbformat_minor": 2
}
